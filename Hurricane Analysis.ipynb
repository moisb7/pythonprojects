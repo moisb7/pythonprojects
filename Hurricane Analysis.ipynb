{
 "cells": [
  {
   "cell_type": "markdown",
   "id": "58875e7a",
   "metadata": {},
   "source": [
    "# Hurricane Analysis"
   ]
  },
  {
   "cell_type": "markdown",
   "id": "9a2d9627",
   "metadata": {},
   "source": [
    "#### Overview"
   ]
  },
  {
   "cell_type": "markdown",
   "id": "633e5dde",
   "metadata": {},
   "source": [
    "This project is slightly different than others you have encountered thus far. Instead of a step-by-step tutorial, this project contains a series of open-ended requirements which describe the project you'll be building. There are many possible ways to correctly fulfill all of these requirements, and you should expect to use the internet, Codecademy, and other resources when you encounter a problem that you cannot easily solve."
   ]
  },
  {
   "cell_type": "markdown",
   "id": "52f01f07",
   "metadata": {},
   "source": [
    "#### Project Goals"
   ]
  },
  {
   "cell_type": "markdown",
   "id": "d9d06c43",
   "metadata": {},
   "source": [
    "You will work to write several functions that organize and manipulate data about Category 5 Hurricanes, the strongest hurricanes as rated by their wind speed. Each one of these functions will use a number of parameters, conditionals, lists, dictionaries, string manipulation, and return statements."
   ]
  },
  {
   "cell_type": "markdown",
   "id": "7fbb9fb5",
   "metadata": {},
   "source": [
    "#### Prerequisites"
   ]
  },
  {
   "cell_type": "markdown",
   "id": "4732a1e8",
   "metadata": {},
   "source": [
    "In order to complete this project, you should have completed the Loops and Dictionaries sections of the [Learn Python 3 Course](https://www.codecademy.com/learn/learn-python-3). This content is also covered in the [Data Scientist Career Path](https://www.codecademy.com/learn/paths/data-science/)."
   ]
  },
  {
   "cell_type": "markdown",
   "id": "1e924903",
   "metadata": {},
   "source": [
    "## Project Requirements"
   ]
  },
  {
   "cell_type": "markdown",
   "id": "35d6f74d",
   "metadata": {},
   "source": [
    "1. Hurricanes, also known as cyclones or typhoons, are one of the most powerful forces of nature on Earth. Due to climate change caused by human activity, the number and intensity of hurricanes has risen, calling for better preparation by the many communities that are devastated by them. As a concerned environmentalist, you want to look at data about the most powerful hurricanes that have occured. \n",
    "\n",
    "   Begin by looking at the `damages` list. The list contains strings representing the total cost in USD(`$`) caused by `34` category 5 hurricanes (wind speeds $\\ge$ 157 mph (252 km/h)) in the Atlantic region. For some of the hurricanes, damage data was not recorded (`\"Damages not recorded\"`), while the rest are written in the format `\"Prefix-B/M\"`, where `B` stands for billions (`1000000000`) and `M` stands for millions (`1000000`).\n",
    "   \n",
    "   Write a function that returns a new list of updated damages where the recorded data is converted to float values and the missing data is retained as `\"Damages not recorded\"`.\n",
    "   \n",
    "   Test your function with the data stored in `damages`."
   ]
  },
  {
   "cell_type": "code",
   "execution_count": 45,
   "id": "d8d3c50b",
   "metadata": {},
   "outputs": [
    {
     "name": "stdout",
     "output_type": "stream",
     "text": [
      "['Damages not recorded', 100000000.0, 'Damages not recorded', 40000000.0, 27900000.0, 5000000.0, 'Damages not recorded', 306000000.0, 2000000.0, 65800000.0, 326000000.0, 60300000.0, 208000000.0, 1420000000.0, 25400000.0, 'Damages not recorded', 1540000000.0, 1240000000.0, 7100000000.0, 10000000000.0, 26500000000.0, 6200000000.0, 5370000000.0, 23300000000.0, 1010000000.0, 125000000000.0, 12000000000.0, 29400000000.0, 1760000000.0, 720000000.0, 15100000000.0, 64800000000.0, 91600000000.0, 25100000000.0]\n"
     ]
    }
   ],
   "source": [
    "# damages (USD($)) of hurricanes\n",
    "damages = ['Damages not recorded', '100M', 'Damages not recorded', '40M',\n",
    "          '27.9M', '5M', 'Damages not recorded', '306M', '2M', '65.8M',\n",
    "          '326M', '60.3M', '208M', '1.42B', '25.4M', 'Damages not recorded',\n",
    "          '1.54B', '1.24B', '7.1B', '10B', '26.5B', '6.2B', '5.37B', '23.3B',\n",
    "          '1.01B', '125B', '12B', '29.4B', '1.76B', '720M', '15.1B', '64.8B',\n",
    "          '91.6B', '25.1B']\n",
    "\n",
    "# 1\n",
    "# Update Recorded Damages\n",
    "conversion = {\"M\": 1000000,\n",
    "             \"B\": 1000000000}\n",
    "\n",
    "# test function by updating damages\n",
    "\n",
    "def convert_damages_data(damages):\n",
    "    updated_damages = []\n",
    "    for damage in damages:\n",
    "         if damage == \"Damages not recorded\":\n",
    "            updated_damages.append(damage)\n",
    "         else:\n",
    "            if damage[-1] in conversion:\n",
    "                value = float(damage[:-1]) * conversion[damage[-1]]\n",
    "                updated_damages.append(value)\n",
    "    return updated_damages\n",
    "\n",
    "updated_damages = convert_damages_data(damages)\n",
    "print(updated_damages)"
   ]
  },
  {
   "cell_type": "markdown",
   "id": "36ac47b6",
   "metadata": {},
   "source": [
    "2. Additional data collected on the `34` strongest Atlantic hurricanes are provided in a series of lists. The data includes:\n",
    "   - `names`: names of the hurricanes\n",
    "   - `months`: months in which the hurricanes occurred\n",
    "   - `years`: years in which the hurricanes occurred\n",
    "   - `max_sustained_winds`: maximum sustained winds (miles per hour) of the hurricanes\n",
    "   - `areas_affected`: list of different areas affected by each of the hurricanes\n",
    "   - `deaths`: total number of deaths caused by each of the hurricanes\n",
    "   \n",
    "   The data is organized such that the data at each index, from `0` to `33`, corresponds to the same hurricane.\n",
    "   \n",
    "   For example, `names[0]` yields the \"Cuba I\" hurricane, which occurred in `months[0]` (October) `years[0]` (1924).\n",
    "   \n",
    "   Write a function that constructs a dictionary made out of the lists, where the keys of the dictionary are the names of the hurricanes, and the values are dictionaries themselves containing a key for each piece of data (`Name`, `Month`, `Year`, `Max Sustained Wind`, `Areas Affected`, `Damage`, `Death`) about the hurricane.\n",
    "   \n",
    "   Thus the key `\"Cuba I\"` would have the value: `{'Name': 'Cuba I', 'Month': 'October', 'Year': 1924, 'Max Sustained Wind': 165, 'Areas Affected': ['Central America', 'Mexico', 'Cuba', 'Florida', 'The Bahamas'], 'Damage': 'Damages not recorded', 'Deaths': 90}`.\n",
    "   \n",
    "   Test your function on the lists of data provided."
   ]
  },
  {
   "cell_type": "code",
   "execution_count": 46,
   "id": "641aa113",
   "metadata": {},
   "outputs": [
    {
     "name": "stdout",
     "output_type": "stream",
     "text": [
      "{'Cuba I': {'month': 'October', 'year': 1924, 'max_sustained_wind': 165, 'areas_affected': ['Central America', 'Mexico', 'Cuba', 'Florida', 'The Bahamas'], 'damage': 'Damages not recorded', 'deaths': 90}, 'San Felipe II Okeechobee': {'month': 'September', 'year': 1928, 'max_sustained_wind': 160, 'areas_affected': ['Lesser Antilles', 'The Bahamas', 'United States East Coast', 'Atlantic Canada'], 'damage': '100M', 'deaths': 4000}, 'Bahamas': {'month': 'September', 'year': 1932, 'max_sustained_wind': 160, 'areas_affected': ['The Bahamas', 'Northeastern United States'], 'damage': 'Damages not recorded', 'deaths': 16}, 'Cuba II': {'month': 'November', 'year': 1932, 'max_sustained_wind': 175, 'areas_affected': ['Lesser Antilles', 'Jamaica', 'Cayman Islands', 'Cuba', 'The Bahamas', 'Bermuda'], 'damage': '40M', 'deaths': 3103}, 'CubaBrownsville': {'month': 'August', 'year': 1933, 'max_sustained_wind': 160, 'areas_affected': ['The Bahamas', 'Cuba', 'Florida', 'Texas', 'Tamaulipas'], 'damage': '27.9M', 'deaths': 179}, 'Tampico': {'month': 'September', 'year': 1933, 'max_sustained_wind': 160, 'areas_affected': ['Jamaica', 'Yucatn Peninsula'], 'damage': '5M', 'deaths': 184}, 'Labor Day': {'month': 'September', 'year': 1935, 'max_sustained_wind': 185, 'areas_affected': ['The Bahamas', 'Florida', 'Georgia', 'The Carolinas', 'Virginia'], 'damage': 'Damages not recorded', 'deaths': 408}, 'New England': {'month': 'September', 'year': 1938, 'max_sustained_wind': 160, 'areas_affected': ['Southeastern United States', 'Northeastern United States', 'Southwestern Quebec'], 'damage': '306M', 'deaths': 682}, 'Carol': {'month': 'September', 'year': 1953, 'max_sustained_wind': 160, 'areas_affected': ['Bermuda', 'New England', 'Atlantic Canada'], 'damage': '2M', 'deaths': 5}, 'Janet': {'month': 'September', 'year': 1955, 'max_sustained_wind': 175, 'areas_affected': ['Lesser Antilles', 'Central America'], 'damage': '65.8M', 'deaths': 1023}, 'Carla': {'month': 'September', 'year': 1961, 'max_sustained_wind': 175, 'areas_affected': ['Texas', 'Louisiana', 'Midwestern United States'], 'damage': '326M', 'deaths': 43}, 'Hattie': {'month': 'October', 'year': 1961, 'max_sustained_wind': 160, 'areas_affected': ['Central America'], 'damage': '60.3M', 'deaths': 319}, 'Beulah': {'month': 'September', 'year': 1967, 'max_sustained_wind': 160, 'areas_affected': ['The Caribbean', 'Mexico', 'Texas'], 'damage': '208M', 'deaths': 688}, 'Camille': {'month': 'August', 'year': 1969, 'max_sustained_wind': 175, 'areas_affected': ['Cuba', 'United States Gulf Coast'], 'damage': '1.42B', 'deaths': 259}, 'Edith': {'month': 'September', 'year': 1971, 'max_sustained_wind': 160, 'areas_affected': ['The Caribbean', 'Central America', 'Mexico', 'United States Gulf Coast'], 'damage': '25.4M', 'deaths': 37}, 'Anita': {'month': 'September', 'year': 1977, 'max_sustained_wind': 175, 'areas_affected': ['Mexico'], 'damage': 'Damages not recorded', 'deaths': 11}, 'David': {'month': 'August', 'year': 1979, 'max_sustained_wind': 175, 'areas_affected': ['The Caribbean', 'United States East coast'], 'damage': '1.54B', 'deaths': 2068}, 'Allen': {'month': 'August', 'year': 1980, 'max_sustained_wind': 190, 'areas_affected': ['The Caribbean', 'Yucatn Peninsula', 'Mexico', 'South Texas'], 'damage': '1.24B', 'deaths': 269}, 'Gilbert': {'month': 'September', 'year': 1988, 'max_sustained_wind': 185, 'areas_affected': ['Jamaica', 'Venezuela', 'Central America', 'Hispaniola', 'Mexico'], 'damage': '7.1B', 'deaths': 318}, 'Hugo': {'month': 'September', 'year': 1989, 'max_sustained_wind': 160, 'areas_affected': ['The Caribbean', 'United States East Coast'], 'damage': '10B', 'deaths': 107}, 'Andrew': {'month': 'August', 'year': 1992, 'max_sustained_wind': 175, 'areas_affected': ['The Bahamas', 'Florida', 'United States Gulf Coast'], 'damage': '26.5B', 'deaths': 65}, 'Mitch': {'month': 'October', 'year': 1998, 'max_sustained_wind': 180, 'areas_affected': ['Central America', 'Yucatn Peninsula', 'South Florida'], 'damage': '6.2B', 'deaths': 19325}, 'Isabel': {'month': 'September', 'year': 2003, 'max_sustained_wind': 165, 'areas_affected': ['Greater Antilles', 'Bahamas', 'Eastern United States', 'Ontario'], 'damage': '5.37B', 'deaths': 51}, 'Ivan': {'month': 'September', 'year': 2004, 'max_sustained_wind': 165, 'areas_affected': ['The Caribbean', 'Venezuela', 'United States Gulf Coast'], 'damage': '23.3B', 'deaths': 124}, 'Emily': {'month': 'July', 'year': 2005, 'max_sustained_wind': 160, 'areas_affected': ['Windward Islands', 'Jamaica', 'Mexico', 'Texas'], 'damage': '1.01B', 'deaths': 17}, 'Katrina': {'month': 'August', 'year': 2005, 'max_sustained_wind': 175, 'areas_affected': ['Bahamas', 'United States Gulf Coast'], 'damage': '125B', 'deaths': 1836}, 'Rita': {'month': 'September', 'year': 2005, 'max_sustained_wind': 180, 'areas_affected': ['Cuba', 'United States Gulf Coast'], 'damage': '12B', 'deaths': 125}, 'Wilma': {'month': 'October', 'year': 2005, 'max_sustained_wind': 185, 'areas_affected': ['Greater Antilles', 'Central America', 'Florida'], 'damage': '29.4B', 'deaths': 87}, 'Dean': {'month': 'August', 'year': 2007, 'max_sustained_wind': 175, 'areas_affected': ['The Caribbean', 'Central America'], 'damage': '1.76B', 'deaths': 45}, 'Felix': {'month': 'September', 'year': 2007, 'max_sustained_wind': 175, 'areas_affected': ['Nicaragua', 'Honduras'], 'damage': '720M', 'deaths': 133}, 'Matthew': {'month': 'October', 'year': 2016, 'max_sustained_wind': 165, 'areas_affected': ['Antilles', 'Venezuela', 'Colombia', 'United States East Coast', 'Atlantic Canada'], 'damage': '15.1B', 'deaths': 603}, 'Irma': {'month': 'September', 'year': 2017, 'max_sustained_wind': 180, 'areas_affected': ['Cape Verde', 'The Caribbean', 'British Virgin Islands', 'U.S. Virgin Islands', 'Cuba', 'Florida'], 'damage': '64.8B', 'deaths': 138}, 'Maria': {'month': 'September', 'year': 2017, 'max_sustained_wind': 175, 'areas_affected': ['Lesser Antilles', 'Virgin Islands', 'Puerto Rico', 'Dominican Republic', 'Turks and Caicos Islands'], 'damage': '91.6B', 'deaths': 3057}, 'Michael': {'month': 'October', 'year': 2018, 'max_sustained_wind': 160, 'areas_affected': ['Central America', 'United States Gulf Coast (especially Florida Panhandle)'], 'damage': '25.1B', 'deaths': 74}}\n"
     ]
    }
   ],
   "source": [
    "# names of hurricanes\n",
    "names = ['Cuba I', 'San Felipe II Okeechobee', 'Bahamas', 'Cuba II', 'CubaBrownsville', 'Tampico', 'Labor Day', 'New England', 'Carol', 'Janet', 'Carla', 'Hattie', 'Beulah', 'Camille', 'Edith', 'Anita', 'David', 'Allen', 'Gilbert', 'Hugo', 'Andrew', 'Mitch', 'Isabel', 'Ivan', 'Emily', 'Katrina', 'Rita', 'Wilma', 'Dean', 'Felix', 'Matthew', 'Irma', 'Maria', 'Michael']\n",
    "\n",
    "# months of hurricanes\n",
    "months = ['October', 'September', 'September', 'November', 'August', 'September', 'September', 'September', 'September', 'September', 'September', 'October', 'September', 'August', 'September', 'September', 'August', 'August', 'September', 'September', 'August', 'October', 'September', 'September', 'July', 'August', 'September', 'October', 'August', 'September', 'October', 'September', 'September', 'October']\n",
    "\n",
    "# years of hurricanes\n",
    "years = [1924, 1928, 1932, 1932, 1933, 1933, 1935, 1938, 1953, 1955, 1961, 1961, 1967, 1969, 1971, 1977, 1979, 1980, 1988, 1989, 1992, 1998, 2003, 2004, 2005, 2005, 2005, 2005, 2007, 2007, 2016, 2017, 2017, 2018]\n",
    "\n",
    "# maximum sustained winds (mph) of hurricanes\n",
    "max_sustained_winds = [165, 160, 160, 175, 160, 160, 185, 160, 160, 175, 175, 160, 160, 175, 160, 175, 175, 190, 185, 160, 175, 180, 165, 165, 160, 175, 180, 185, 175, 175, 165, 180, 175, 160]\n",
    "\n",
    "# areas affected by each hurricane\n",
    "areas_affected = [['Central America', 'Mexico', 'Cuba', 'Florida', 'The Bahamas'], ['Lesser Antilles', 'The Bahamas', 'United States East Coast', 'Atlantic Canada'], ['The Bahamas', 'Northeastern United States'], ['Lesser Antilles', 'Jamaica', 'Cayman Islands', 'Cuba', 'The Bahamas', 'Bermuda'], ['The Bahamas', 'Cuba', 'Florida', 'Texas', 'Tamaulipas'], ['Jamaica', 'Yucatn Peninsula'], ['The Bahamas', 'Florida', 'Georgia', 'The Carolinas', 'Virginia'], ['Southeastern United States', 'Northeastern United States', 'Southwestern Quebec'], ['Bermuda', 'New England', 'Atlantic Canada'], ['Lesser Antilles', 'Central America'], ['Texas', 'Louisiana', 'Midwestern United States'], ['Central America'], ['The Caribbean', 'Mexico', 'Texas'], ['Cuba', 'United States Gulf Coast'], ['The Caribbean', 'Central America', 'Mexico', 'United States Gulf Coast'], ['Mexico'], ['The Caribbean', 'United States East coast'], ['The Caribbean', 'Yucatn Peninsula', 'Mexico', 'South Texas'], ['Jamaica', 'Venezuela', 'Central America', 'Hispaniola', 'Mexico'], ['The Caribbean', 'United States East Coast'], ['The Bahamas', 'Florida', 'United States Gulf Coast'], ['Central America', 'Yucatn Peninsula', 'South Florida'], ['Greater Antilles', 'Bahamas', 'Eastern United States', 'Ontario'], ['The Caribbean', 'Venezuela', 'United States Gulf Coast'], ['Windward Islands', 'Jamaica', 'Mexico', 'Texas'], ['Bahamas', 'United States Gulf Coast'], ['Cuba', 'United States Gulf Coast'], ['Greater Antilles', 'Central America', 'Florida'], ['The Caribbean', 'Central America'], ['Nicaragua', 'Honduras'], ['Antilles', 'Venezuela', 'Colombia', 'United States East Coast', 'Atlantic Canada'], ['Cape Verde', 'The Caribbean', 'British Virgin Islands', 'U.S. Virgin Islands', 'Cuba', 'Florida'], ['Lesser Antilles', 'Virgin Islands', 'Puerto Rico', 'Dominican Republic', 'Turks and Caicos Islands'], ['Central America', 'United States Gulf Coast (especially Florida Panhandle)']]\n",
    "\n",
    "# damages (USD($)) of hurricanes\n",
    "damages = ['Damages not recorded', '100M', 'Damages not recorded', '40M', '27.9M', '5M', 'Damages not recorded', '306M', '2M', '65.8M', '326M', '60.3M', '208M', '1.42B', '25.4M', 'Damages not recorded', '1.54B', '1.24B', '7.1B', '10B', '26.5B', '6.2B', '5.37B', '23.3B', '1.01B', '125B', '12B', '29.4B', '1.76B', '720M', '15.1B', '64.8B', '91.6B', '25.1B']\n",
    "\n",
    "# deaths for each hurricane\n",
    "deaths = [90,4000,16,3103,179,184,408,682,5,1023,43,319,688,259,37,11,2068,269,318,107,65,19325,51,124,17,1836,125,87,45,133,603,138,3057,74]\n",
    "\n",
    "# 2\n",
    "# Create a Table\n",
    "hurricanes = {}\n",
    "\n",
    "for i in range(len(names)):\n",
    "    hurricanes[names[i]] = {\n",
    "        \"month\": months[i],\n",
    "        \"year\": years[i],\n",
    "        \"max_sustained_wind\": max_sustained_winds[i],\n",
    "        \"areas_affected\": areas_affected[i],\n",
    "        \"damage\": damages[i],\n",
    "        \"deaths\": deaths[i]\n",
    "    }\n",
    "\n",
    "print(hurricanes)"
   ]
  },
  {
   "cell_type": "markdown",
   "id": "6d0a1933",
   "metadata": {},
   "source": [
    "3. In addition to organizing the hurricanes in a dictionary with names as the key, you want to be able to organize the hurricanes by year.\n",
    "\n",
    "   Write a function that converts the current dictionary of hurricanes to a new dictionary, where the keys are years and the values are lists containing a dictionary for each hurricane that occurred in that year.\n",
    "   \n",
    "   For example, the key `1932` would yield the value: `[{'Name': 'Bahamas', 'Month': 'September', 'Year': 1932, 'Max Sustained Wind': 160, 'Areas Affected': ['The Bahamas', 'Northeastern United States'], 'Damage': 'Damage not recorded', 'Deaths': 16}, {'Name': 'Cuba II', 'Month': 'November', 'Year': 1932, 'Max Sustained Wind': 175, 'Areas Affected': ['Lesser Antilles', 'Jamaica', 'Cayman Islands', 'Cuba', 'The Bahamas', 'Bermuda'], 'Damage': 40000000.0, 'Deaths': 3103}]`.\n",
    "   \n",
    "   Test your function on your hurricane dictionary."
   ]
  },
  {
   "cell_type": "code",
   "execution_count": 47,
   "id": "1ef2edea",
   "metadata": {},
   "outputs": [
    {
     "name": "stdout",
     "output_type": "stream",
     "text": [
      "{1924: [{'month': 'October', 'year': 1924, 'max_sustained_wind': 165, 'areas_affected': ['Central America', 'Mexico', 'Cuba', 'Florida', 'The Bahamas'], 'damage': 'Damages not recorded', 'deaths': 90, 'name': 'Cuba I'}], 1928: [{'month': 'September', 'year': 1928, 'max_sustained_wind': 160, 'areas_affected': ['Lesser Antilles', 'The Bahamas', 'United States East Coast', 'Atlantic Canada'], 'damage': '100M', 'deaths': 4000, 'name': 'San Felipe II Okeechobee'}], 1932: [{'month': 'September', 'year': 1932, 'max_sustained_wind': 160, 'areas_affected': ['The Bahamas', 'Northeastern United States'], 'damage': 'Damages not recorded', 'deaths': 16, 'name': 'Bahamas'}, {'month': 'November', 'year': 1932, 'max_sustained_wind': 175, 'areas_affected': ['Lesser Antilles', 'Jamaica', 'Cayman Islands', 'Cuba', 'The Bahamas', 'Bermuda'], 'damage': '40M', 'deaths': 3103, 'name': 'Cuba II'}], 1933: [{'month': 'August', 'year': 1933, 'max_sustained_wind': 160, 'areas_affected': ['The Bahamas', 'Cuba', 'Florida', 'Texas', 'Tamaulipas'], 'damage': '27.9M', 'deaths': 179, 'name': 'CubaBrownsville'}, {'month': 'September', 'year': 1933, 'max_sustained_wind': 160, 'areas_affected': ['Jamaica', 'Yucatn Peninsula'], 'damage': '5M', 'deaths': 184, 'name': 'Tampico'}], 1935: [{'month': 'September', 'year': 1935, 'max_sustained_wind': 185, 'areas_affected': ['The Bahamas', 'Florida', 'Georgia', 'The Carolinas', 'Virginia'], 'damage': 'Damages not recorded', 'deaths': 408, 'name': 'Labor Day'}], 1938: [{'month': 'September', 'year': 1938, 'max_sustained_wind': 160, 'areas_affected': ['Southeastern United States', 'Northeastern United States', 'Southwestern Quebec'], 'damage': '306M', 'deaths': 682, 'name': 'New England'}], 1953: [{'month': 'September', 'year': 1953, 'max_sustained_wind': 160, 'areas_affected': ['Bermuda', 'New England', 'Atlantic Canada'], 'damage': '2M', 'deaths': 5, 'name': 'Carol'}], 1955: [{'month': 'September', 'year': 1955, 'max_sustained_wind': 175, 'areas_affected': ['Lesser Antilles', 'Central America'], 'damage': '65.8M', 'deaths': 1023, 'name': 'Janet'}], 1961: [{'month': 'September', 'year': 1961, 'max_sustained_wind': 175, 'areas_affected': ['Texas', 'Louisiana', 'Midwestern United States'], 'damage': '326M', 'deaths': 43, 'name': 'Carla'}, {'month': 'October', 'year': 1961, 'max_sustained_wind': 160, 'areas_affected': ['Central America'], 'damage': '60.3M', 'deaths': 319, 'name': 'Hattie'}], 1967: [{'month': 'September', 'year': 1967, 'max_sustained_wind': 160, 'areas_affected': ['The Caribbean', 'Mexico', 'Texas'], 'damage': '208M', 'deaths': 688, 'name': 'Beulah'}], 1969: [{'month': 'August', 'year': 1969, 'max_sustained_wind': 175, 'areas_affected': ['Cuba', 'United States Gulf Coast'], 'damage': '1.42B', 'deaths': 259, 'name': 'Camille'}], 1971: [{'month': 'September', 'year': 1971, 'max_sustained_wind': 160, 'areas_affected': ['The Caribbean', 'Central America', 'Mexico', 'United States Gulf Coast'], 'damage': '25.4M', 'deaths': 37, 'name': 'Edith'}], 1977: [{'month': 'September', 'year': 1977, 'max_sustained_wind': 175, 'areas_affected': ['Mexico'], 'damage': 'Damages not recorded', 'deaths': 11, 'name': 'Anita'}], 1979: [{'month': 'August', 'year': 1979, 'max_sustained_wind': 175, 'areas_affected': ['The Caribbean', 'United States East coast'], 'damage': '1.54B', 'deaths': 2068, 'name': 'David'}], 1980: [{'month': 'August', 'year': 1980, 'max_sustained_wind': 190, 'areas_affected': ['The Caribbean', 'Yucatn Peninsula', 'Mexico', 'South Texas'], 'damage': '1.24B', 'deaths': 269, 'name': 'Allen'}], 1988: [{'month': 'September', 'year': 1988, 'max_sustained_wind': 185, 'areas_affected': ['Jamaica', 'Venezuela', 'Central America', 'Hispaniola', 'Mexico'], 'damage': '7.1B', 'deaths': 318, 'name': 'Gilbert'}], 1989: [{'month': 'September', 'year': 1989, 'max_sustained_wind': 160, 'areas_affected': ['The Caribbean', 'United States East Coast'], 'damage': '10B', 'deaths': 107, 'name': 'Hugo'}], 1992: [{'month': 'August', 'year': 1992, 'max_sustained_wind': 175, 'areas_affected': ['The Bahamas', 'Florida', 'United States Gulf Coast'], 'damage': '26.5B', 'deaths': 65, 'name': 'Andrew'}], 1998: [{'month': 'October', 'year': 1998, 'max_sustained_wind': 180, 'areas_affected': ['Central America', 'Yucatn Peninsula', 'South Florida'], 'damage': '6.2B', 'deaths': 19325, 'name': 'Mitch'}], 2003: [{'month': 'September', 'year': 2003, 'max_sustained_wind': 165, 'areas_affected': ['Greater Antilles', 'Bahamas', 'Eastern United States', 'Ontario'], 'damage': '5.37B', 'deaths': 51, 'name': 'Isabel'}], 2004: [{'month': 'September', 'year': 2004, 'max_sustained_wind': 165, 'areas_affected': ['The Caribbean', 'Venezuela', 'United States Gulf Coast'], 'damage': '23.3B', 'deaths': 124, 'name': 'Ivan'}], 2005: [{'month': 'July', 'year': 2005, 'max_sustained_wind': 160, 'areas_affected': ['Windward Islands', 'Jamaica', 'Mexico', 'Texas'], 'damage': '1.01B', 'deaths': 17, 'name': 'Emily'}, {'month': 'August', 'year': 2005, 'max_sustained_wind': 175, 'areas_affected': ['Bahamas', 'United States Gulf Coast'], 'damage': '125B', 'deaths': 1836, 'name': 'Katrina'}, {'month': 'September', 'year': 2005, 'max_sustained_wind': 180, 'areas_affected': ['Cuba', 'United States Gulf Coast'], 'damage': '12B', 'deaths': 125, 'name': 'Rita'}, {'month': 'October', 'year': 2005, 'max_sustained_wind': 185, 'areas_affected': ['Greater Antilles', 'Central America', 'Florida'], 'damage': '29.4B', 'deaths': 87, 'name': 'Wilma'}], 2007: [{'month': 'August', 'year': 2007, 'max_sustained_wind': 175, 'areas_affected': ['The Caribbean', 'Central America'], 'damage': '1.76B', 'deaths': 45, 'name': 'Dean'}, {'month': 'September', 'year': 2007, 'max_sustained_wind': 175, 'areas_affected': ['Nicaragua', 'Honduras'], 'damage': '720M', 'deaths': 133, 'name': 'Felix'}], 2016: [{'month': 'October', 'year': 2016, 'max_sustained_wind': 165, 'areas_affected': ['Antilles', 'Venezuela', 'Colombia', 'United States East Coast', 'Atlantic Canada'], 'damage': '15.1B', 'deaths': 603, 'name': 'Matthew'}], 2017: [{'month': 'September', 'year': 2017, 'max_sustained_wind': 180, 'areas_affected': ['Cape Verde', 'The Caribbean', 'British Virgin Islands', 'U.S. Virgin Islands', 'Cuba', 'Florida'], 'damage': '64.8B', 'deaths': 138, 'name': 'Irma'}, {'month': 'September', 'year': 2017, 'max_sustained_wind': 175, 'areas_affected': ['Lesser Antilles', 'Virgin Islands', 'Puerto Rico', 'Dominican Republic', 'Turks and Caicos Islands'], 'damage': '91.6B', 'deaths': 3057, 'name': 'Maria'}], 2018: [{'month': 'October', 'year': 2018, 'max_sustained_wind': 160, 'areas_affected': ['Central America', 'United States Gulf Coast (especially Florida Panhandle)'], 'damage': '25.1B', 'deaths': 74, 'name': 'Michael'}]}\n"
     ]
    }
   ],
   "source": [
    "# 3\n",
    "def create_year_dictionary(hurricanes):\n",
    "    \"\"\"Convert dictionary with hurricane name as key to a new dictionary with hurricane year as the key and return new dictionary.\"\"\"\n",
    "    \n",
    "    hurricanes_by_year = dict()\n",
    "    for cane in hurricanes:\n",
    "        current_year = hurricanes[cane]['year']\n",
    "        current_cane = hurricanes[cane]\n",
    "        current_cane['name'] = cane  # Añadimos el nombre del huracán al diccionario\n",
    "        if current_year not in hurricanes_by_year:\n",
    "            hurricanes_by_year[current_year] = [current_cane]\n",
    "        else:\n",
    "            hurricanes_by_year[current_year].append(current_cane)\n",
    "    return hurricanes_by_year\n",
    "\n",
    "hurricanes_by_year = create_year_dictionary(hurricanes)\n",
    "print(hurricanes_by_year)"
   ]
  },
  {
   "cell_type": "markdown",
   "id": "66973f77",
   "metadata": {},
   "source": [
    "4. You believe that knowing how often each of the areas of the Atlantic are affected by these strong hurricanes is important for making preparations for future hurricanes.\n",
    "\n",
    "   Write a function that counts how often each area is listed as an affected area of a hurricane. Store and return the results in a dictionary where the keys are the affected areas and the values are counts of how many times the areas were affected.\n",
    "   \n",
    "   Test your function on your hurricane dictionary."
   ]
  },
  {
   "cell_type": "code",
   "execution_count": 48,
   "id": "bff86f77",
   "metadata": {},
   "outputs": [
    {
     "name": "stdout",
     "output_type": "stream",
     "text": [
      "{'Central America': 9, 'Mexico': 7, 'Cuba': 6, 'Florida': 6, 'The Bahamas': 7, 'Lesser Antilles': 4, 'United States East Coast': 3, 'Atlantic Canada': 3, 'Northeastern United States': 2, 'Jamaica': 4, 'Cayman Islands': 1, 'Bermuda': 2, 'Texas': 4, 'Tamaulipas': 1, 'Yucatn Peninsula': 3, 'Georgia': 1, 'The Carolinas': 1, 'Virginia': 1, 'Southeastern United States': 1, 'Southwestern Quebec': 1, 'New England': 1, 'Louisiana': 1, 'Midwestern United States': 1, 'The Caribbean': 8, 'United States Gulf Coast': 6, 'United States East coast': 1, 'South Texas': 1, 'Venezuela': 3, 'Hispaniola': 1, 'South Florida': 1, 'Greater Antilles': 2, 'Bahamas': 2, 'Eastern United States': 1, 'Ontario': 1, 'Windward Islands': 1, 'Nicaragua': 1, 'Honduras': 1, 'Antilles': 1, 'Colombia': 1, 'Cape Verde': 1, 'British Virgin Islands': 1, 'U.S. Virgin Islands': 1, 'Virgin Islands': 1, 'Puerto Rico': 1, 'Dominican Republic': 1, 'Turks and Caicos Islands': 1, 'United States Gulf Coast (especially Florida Panhandle)': 1}\n"
     ]
    }
   ],
   "source": [
    "# 4\n",
    "# Counting Damaged Areas\n",
    "def areas_affected(hurricanes):\n",
    "    \"\"\"Create a dictionary where keys are areas affected and values are the number of times each area has been affected.\"\"\"\n",
    "    affected_areas_count = {}\n",
    "    \n",
    "    for hurricane in hurricanes.values():\n",
    "        for area in hurricane['areas_affected']:\n",
    "            if area in affected_areas_count:\n",
    "                affected_areas_count[area] += 1\n",
    "            else:\n",
    "                affected_areas_count[area] = 1\n",
    "                \n",
    "    return affected_areas_count\n",
    "\n",
    "\n",
    "# Crear el diccionario de áreas afectadas\n",
    "affected_areas_count = areas_affected(hurricanes)\n",
    "\n",
    "# Imprimir el diccionario resultante\n",
    "print(affected_areas_count)\n",
    "\n",
    "        \n",
    "\n",
    "\n",
    "\n",
    "\n",
    "# create dictionary of areas to store the number of hurricanes involved in\n"
   ]
  },
  {
   "cell_type": "markdown",
   "id": "e015eeb3",
   "metadata": {},
   "source": [
    "5. Write a function that finds the area affected by the most hurricanes, and how often it was hit.\n",
    "\n",
    "   Test your function on your affected area dictionary."
   ]
  },
  {
   "cell_type": "code",
   "execution_count": 49,
   "id": "643c73f9",
   "metadata": {},
   "outputs": [
    {
     "name": "stdout",
     "output_type": "stream",
     "text": [
      "The most affected area is  Central America with 9 hurricanes.\n"
     ]
    }
   ],
   "source": [
    "# 5\n",
    "# Calculating Maximum Hurricane Count\n",
    "# Función para encontrar el área más afectada y cuántas veces fue afectada##\n",
    "def most_affected_area(affected_areas_count):\n",
    "    max_area = None\n",
    "    max_count = 0\n",
    "    \n",
    "    for area, count in affected_areas_count.items():\n",
    "        if count > max_count:\n",
    "            max_area = area\n",
    "            max_count = count\n",
    "            \n",
    "    return max_area, max_count\n",
    "\n",
    "# Llamada a la función y mostrar el resultado\n",
    "area, count = most_affected_area(affected_areas_count)\n",
    "\n",
    "\n",
    "# find most frequently affected area and the number of hurricanes involved in\n",
    "print(f\"The most affected area is  {area} with {count} hurricanes.\")"
   ]
  },
  {
   "cell_type": "markdown",
   "id": "4c120f59",
   "metadata": {},
   "source": [
    "6. Write a function that finds the hurricane that caused the greatest number of deaths, and how many deaths it caused.\n",
    "\n",
    "   Test your function on your hurricane dictionary."
   ]
  },
  {
   "cell_type": "code",
   "execution_count": 50,
   "id": "ced02448",
   "metadata": {},
   "outputs": [
    {
     "name": "stdout",
     "output_type": "stream",
     "text": [
      "The most mortal hurricane was Mitch with 19325 deaths\n"
     ]
    }
   ],
   "source": [
    "# 6\n",
    "# Calculating the Deadliest Hurricane\n",
    "def deadliest_hurricane(hurricanes):\n",
    "    deaths_caused = 0\n",
    "    deadliest = None\n",
    "\n",
    "    for name, details in hurricanes.items():\n",
    "        if details['deaths'] > deaths_caused:\n",
    "            deaths_caused = details['deaths']\n",
    "            deadliest = name\n",
    "\n",
    "    return deadliest, deaths_caused\n",
    "\n",
    "\n",
    "\n",
    "# find highest mortality hurricane and the number of deaths\n",
    "deadliest, deaths = deadliest_hurricane(hurricanes)\n",
    "print(f\"The most mortal hurricane was {deadliest} with {deaths} deaths\")\n"
   ]
  },
  {
   "cell_type": "markdown",
   "id": "9ddd39b0",
   "metadata": {},
   "source": [
    "7. Just as hurricanes are rated by their windspeed, you want to try rating hurricanes based on other metrics.\n",
    "\n",
    "   Write a function that rates hurricanes on a mortality scale according to the following ratings, where the key is the rating and the value is the upper bound of deaths for that rating.\n",
    "   \n",
    "   ```py\n",
    "   mortality_scale = {0: 0,\n",
    "   1: 100,\n",
    "   2: 500,\n",
    "   3: 1000,\n",
    "   4: 10000}\n",
    "   ```\n",
    "   \n",
    "   For example, a hurricane with a `1` mortality rating would have resulted in greater than `0` but less than or equal to `100` deaths. A hurricane with a `5` mortality would have resulted in greater than `10000` deaths.\n",
    "   \n",
    "   Store the hurricanes in a new dictionary where the keys are the mortaility ratings and the values are lists containing a dictionary for each hurricane that falls into that mortality rating.\n",
    "   \n",
    "   Test your function on your hurricane dictionary."
   ]
  },
  {
   "cell_type": "code",
   "execution_count": 51,
   "id": "9eea4dc7",
   "metadata": {},
   "outputs": [
    {
     "name": "stdout",
     "output_type": "stream",
     "text": [
      "Category 0:\n",
      "Category 1:\n",
      "  - Cuba I\n",
      "  - Bahamas\n",
      "  - Carol\n",
      "  - Carla\n",
      "  - Edith\n",
      "  - Anita\n",
      "  - Andrew\n",
      "  - Isabel\n",
      "  - Emily\n",
      "  - Wilma\n",
      "  - Dean\n",
      "  - Michael\n",
      "Category 2:\n",
      "  - CubaBrownsville\n",
      "  - Tampico\n",
      "  - Labor Day\n",
      "  - Hattie\n",
      "  - Camille\n",
      "  - Allen\n",
      "  - Gilbert\n",
      "  - Hugo\n",
      "  - Ivan\n",
      "  - Rita\n",
      "  - Felix\n",
      "  - Irma\n",
      "Category 3:\n",
      "  - New England\n",
      "  - Beulah\n",
      "  - Matthew\n",
      "Category 4:\n",
      "  - San Felipe II Okeechobee\n",
      "  - Cuba II\n",
      "  - Janet\n",
      "  - David\n",
      "  - Katrina\n",
      "  - Maria\n"
     ]
    }
   ],
   "source": [
    "# 7\n",
    "# Rating Hurricanes by Mortality\n",
    "mortality_scale = {0: 0,\n",
    "   1: 100,\n",
    "   2: 500,\n",
    "   3: 1000,\n",
    "   4: 10000}\n",
    "\n",
    "mortality_dict = {i: [] for i in mortality_scale.keys()}\n",
    "# categorize hurricanes in new dictionary with mortality severity as key\n",
    "def categorize_by_mortality(hurricanes):\n",
    "    for name, details in hurricanes.items():\n",
    "        deaths = details['deaths']\n",
    "        for category, upper_bound in mortality_scale.items():\n",
    "            if deaths <= upper_bound:\n",
    "                mortality_dict[category].append(name)\n",
    "                break  # Salir del bucle una vez encontrada la categoría correcta\n",
    "\n",
    "categorize_by_mortality(hurricanes)\n",
    "# Mostrar el diccionario categorizado por mortalidad\n",
    "for category, hurricanes_list in mortality_dict.items():\n",
    "    print(f\"Category {category}:\")\n",
    "    for hurricane in hurricanes_list:\n",
    "        print(f\"  - {hurricane}\")    \n"
   ]
  },
  {
   "cell_type": "markdown",
   "id": "199b0e1c",
   "metadata": {},
   "source": [
    "8. Write a function that finds the hurricane that caused the greatest damage, and how costly it was.\n",
    "\n",
    "   Test your function on your hurricane dictionary."
   ]
  },
  {
   "cell_type": "code",
   "execution_count": 52,
   "id": "b3dc79b4",
   "metadata": {},
   "outputs": [
    {
     "name": "stdout",
     "output_type": "stream",
     "text": [
      "The hurricane that made the maximum damage was Katrina costing 125000000000.0 dollars. \n"
     ]
    }
   ],
   "source": [
    "# 8\n",
    "def convert_to_number(damage):\n",
    "    if damage == \"Damages not recorded\":\n",
    "        return 0  # O cualquier valor que consideres apropiado para \"no registrado\"\n",
    "    elif damage[-1] == 'M':\n",
    "        return float(damage[:-1]) * 1_000_000\n",
    "    elif damage[-1] == 'B':\n",
    "        return float(damage[:-1]) * 1_000_000_000\n",
    "    else:\n",
    "        return float(damage)\n",
    "# Calculating Hurricane Maximum Damage\n",
    "\n",
    "\n",
    "def greatest_damage(hurricanes):\n",
    "    hurricane_max = None\n",
    "    cost_damage = 0\n",
    "    for name, value in hurricanes.items():\n",
    "        # Convertir el valor de damage a número antes de la comparación\n",
    "        damage_value = convert_to_number(value['damage'])\n",
    "        if damage_value > cost_damage:\n",
    "            cost_damage = damage_value\n",
    "            hurricane_max = name\n",
    "    return hurricane_max, cost_damage\n",
    "\n",
    "\n",
    "hurricane_max, cost_damage = greatest_damage(hurricanes)   \n",
    "# find highest damage inducing hurricane and its total cost\n",
    "print(f\"The hurricane that made the maximum damage was {hurricane_max} costing {cost_damage} dollars. \")"
   ]
  },
  {
   "cell_type": "markdown",
   "id": "58d22ddc",
   "metadata": {},
   "source": [
    "9. Lastly, you want to rate hurricanes according to how much damage they cause.\n",
    "\n",
    "   Write a function that rates hurricanes on a damage scale according to the following ratings, where the key is the rating and the value is the upper bound of damage for that rating.\n",
    "   ```py\n",
    "   damage_scale = {0: 0,\n",
    "   1: 100000000,\n",
    "   2: 1000000000,\n",
    "   3: 10000000000,\n",
    "   4: 50000000000}\n",
    "   ```\n",
    "   \n",
    "   For example, a hurricane with a `1` damage rating would have resulted in damages greater than `0` USD but less than or equal to `100000000` USD. A hurricane with a `5` damage rating would have resulted in damages greater than `50000000000` USD (talk about a lot of money).\n",
    "   \n",
    "   Store the hurricanes in a new dictionary where the keys are damage ratings and the values are lists containing a dictionary for each hurricane that falls into that damage rating.\n",
    "   \n",
    "   Test your function on your hurricane dictionary."
   ]
  },
  {
   "cell_type": "code",
   "execution_count": 53,
   "id": "e543f487",
   "metadata": {},
   "outputs": [
    {
     "name": "stdout",
     "output_type": "stream",
     "text": [
      " Scale : 0\n",
      " - Cuba I\n",
      " - Bahamas\n",
      " - Labor Day\n",
      " - Anita\n",
      " Scale : 1\n",
      " - San Felipe II Okeechobee\n",
      " - Cuba II\n",
      " - CubaBrownsville\n",
      " - Tampico\n",
      " - Carol\n",
      " - Janet\n",
      " - Hattie\n",
      " - Edith\n",
      " Scale : 2\n",
      " - New England\n",
      " - Carla\n",
      " - Beulah\n",
      " - Felix\n",
      " Scale : 3\n",
      " - Camille\n",
      " - David\n",
      " - Allen\n",
      " - Gilbert\n",
      " - Hugo\n",
      " - Mitch\n",
      " - Isabel\n",
      " - Emily\n",
      " - Dean\n",
      " Scale : 4\n",
      " - Andrew\n",
      " - Ivan\n",
      " - Rita\n",
      " - Wilma\n",
      " - Matthew\n",
      " - Michael\n"
     ]
    }
   ],
   "source": [
    "# 9\n",
    "# Rating Hurricanes by Damage\n",
    "damage_scale = {0: 0,\n",
    "                1: 100000000,\n",
    "                2: 1000000000,\n",
    "                3: 10000000000,\n",
    "                4: 50000000000}\n",
    "\n",
    "\n",
    "damages_dict = {i: [] for i in damage_scale.keys()}\n",
    "        \n",
    "def categorize_by_damage(hurricanes):\n",
    "    hurricanes_damages = dict()\n",
    "    for name, details in hurricanes.items():\n",
    "        damages = convert_to_number(details['damage'])\n",
    "        for scale, upper_bound in damage_scale.items():\n",
    "            if damages <= upper_bound:\n",
    "                damages_dict[scale].append(name)\n",
    "                break  # Salir del bucle una vez encontrada la categoría correcta\n",
    "\n",
    "\n",
    "\n",
    "categorize_by_damage(hurricanes)\n",
    "for scale, hurricanes_list in damages_dict.items():\n",
    "    print(f\" Scale : {scale}\")\n",
    "    for hurricane in hurricanes_list:\n",
    "        print(f\" - {hurricane}\")\n",
    "\n"
   ]
  },
  {
   "cell_type": "markdown",
   "id": "928c5fd2",
   "metadata": {},
   "source": [
    "## Solution"
   ]
  },
  {
   "cell_type": "markdown",
   "id": "252616a3",
   "metadata": {},
   "source": [
    "Great work! View the **Hurricane Analysis_Solution.ipynb** file or visit [our forums](https://discuss.codecademy.com/t/hurricane-analysis-challenge-project-python/462363) to compare your project to our sample solution code. You can also learn how to host your own solution on GitHub so you can share it with other learners! Your solution might look different than ours, and that's okay! There are multiple ways to solve these projects, and you'll learn more by seeing others' code."
   ]
  },
  {
   "cell_type": "code",
   "execution_count": null,
   "id": "da8f7141",
   "metadata": {},
   "outputs": [],
   "source": []
  }
 ],
 "metadata": {
  "kernelspec": {
   "display_name": "Python 3.10.8 64-bit (microsoft store)",
   "language": "python",
   "name": "python3"
  },
  "language_info": {
   "codemirror_mode": {
    "name": "ipython",
    "version": 3
   },
   "file_extension": ".py",
   "mimetype": "text/x-python",
   "name": "python",
   "nbconvert_exporter": "python",
   "pygments_lexer": "ipython3",
   "version": "3.10.10"
  },
  "vscode": {
   "interpreter": {
    "hash": "b784193cf0f9970b27f3c12f21dbff8ed97e3cf923dc23fe210654173bc3fdd0"
   }
  }
 },
 "nbformat": 4,
 "nbformat_minor": 5
}
